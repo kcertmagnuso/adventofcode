{
 "cells": [
  {
   "cell_type": "code",
   "execution_count": 1,
   "id": "6efb870d",
   "metadata": {},
   "outputs": [],
   "source": [
    "TEST = False\n",
    "DEBUG = False\n",
    "X = \"\"\"\n",
    "\"\"\"\n",
    "\n",
    "if TEST:\n",
    "    data = X.strip().split()\n",
    "    #data = list(map(int, data))\n",
    "else:\n",
    "    with open(\"aoc_2_input.txt\", \"r\") as f:\n",
    "        data = f.read().strip().split()\n",
    "        #data = list(map(int, data))\n"
   ]
  },
  {
   "cell_type": "code",
   "execution_count": null,
   "id": "6321889b",
   "metadata": {},
   "outputs": [],
   "source": [
    "#Part1"
   ]
  },
  {
   "cell_type": "code",
   "execution_count": null,
   "id": "995aa11f",
   "metadata": {},
   "outputs": [],
   "source": [
    "#Part2"
   ]
  }
 ],
 "metadata": {
  "kernelspec": {
   "display_name": "Python 3 (ipykernel)",
   "language": "python",
   "name": "python3"
  },
  "language_info": {
   "codemirror_mode": {
    "name": "ipython",
    "version": 3
   },
   "file_extension": ".py",
   "mimetype": "text/x-python",
   "name": "python",
   "nbconvert_exporter": "python",
   "pygments_lexer": "ipython3",
   "version": "3.10.0"
  }
 },
 "nbformat": 4,
 "nbformat_minor": 5
}
