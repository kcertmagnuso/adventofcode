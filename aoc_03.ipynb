{
 "cells": [
  {
   "cell_type": "code",
   "execution_count": 85,
   "id": "6efb870d",
   "metadata": {},
   "outputs": [],
   "source": [
    "TEST = False\n",
    "DEBUG = False\n",
    "X = \"\"\"00100\n",
    "11110\n",
    "10110\n",
    "10111\n",
    "10101\n",
    "01111\n",
    "00111\n",
    "11100\n",
    "10000\n",
    "11001\n",
    "00010\n",
    "01010\"\"\"\n",
    "\n",
    "if TEST:\n",
    "    data = X.strip().split()\n",
    "    #data = list(map(int, data))\n",
    "else:\n",
    "    with open(\"aoc_3_input.txt\", \"r\") as f:\n",
    "        data = f.read().strip().split()\n",
    "        #data = list(map(int, data))\n",
    "\n",
    "if DEBUG:\n",
    "    print(data)"
   ]
  },
  {
   "cell_type": "code",
   "execution_count": 26,
   "id": "6321889b",
   "metadata": {},
   "outputs": [
    {
     "name": "stdout",
     "output_type": "stream",
     "text": [
      "[0, 0, 0, 0, 0, 0, 0, 0, 0, 0, 0, 0]\n",
      "\n",
      "100110110100 011001001011\n",
      "4001724 2484 1611\n"
     ]
    }
   ],
   "source": [
    "#Part1\n",
    "#Gamma is the mean bit value for each bit\n",
    "#Epsilon is the value for each bit\n",
    "from operator import add \n",
    "dataLen = len(data[0])\n",
    "c = [0,]*dataLen\n",
    "dataLen = len(data)\n",
    "\n",
    "print(c)\n",
    "gamma = \"\"\n",
    "epsilon = \"\"\n",
    "for el in data:\n",
    "    c = list( map (add, c, list(map(int, el))))\n",
    "    if DEBUG:\n",
    "        print(el, c)\n",
    "print()\n",
    "for i in c:\n",
    "    gamma   += \"1\" if i > (dataLen/2.0) else \"0\"\n",
    "    epsilon += \"1\" if i < (dataLen/2.0) else \"0\"\n",
    "\n",
    "print(gamma, epsilon)\n",
    "gamma = int(gamma,2)\n",
    "epsilon = int(epsilon, 2)\n",
    "pc = gamma * epsilon\n",
    "\n",
    "print(pc, gamma, epsilon)"
   ]
  },
  {
   "cell_type": "code",
   "execution_count": 86,
   "id": "995aa11f",
   "metadata": {},
   "outputs": [
    {
     "name": "stdout",
     "output_type": "stream",
     "text": [
      "2545 231 587895\n"
     ]
    }
   ],
   "source": [
    "#Part2\n",
    "#LSR = OGR * CO2S\n",
    "\n",
    "def recSelector(dataset, bit, OGR=True):\n",
    "    if bit == len(dataset[0]) or len(dataset)==1:\n",
    "        if DEBUG:\n",
    "            print(dataset)\n",
    "        return dataset\n",
    "    else:\n",
    "        subset = []\n",
    "        count = 0\n",
    "        \n",
    "        for el in dataset:\n",
    "            if el[bit] == \"1\":\n",
    "                count += 1\n",
    "        \n",
    "        sval = (len(dataset)/2)\n",
    "        if DEBUG:\n",
    "            print(count, sval, count==sval, count>sval, count<sval)\n",
    "            print(dataset)\n",
    "        for el in dataset:\n",
    "            if OGR is True:\n",
    "                if count >= sval and el[bit] == \"1\":\n",
    "                    subset.append(el)\n",
    "                elif count < sval and el[bit] == \"0\":\n",
    "                    subset.append(el)\n",
    "            else:\n",
    "                if count == sval and el[bit] == \"0\":\n",
    "                    subset.append(el)\n",
    "                elif count > sval and el[bit] == \"0\":\n",
    "                    subset.append(el)\n",
    "                elif count < sval and el[bit] ==\"1\":\n",
    "                    subset.append(el)\n",
    "        if DEBUG:\n",
    "            print()\n",
    "        return recSelector(subset, bit+1, OGR=OGR)\n",
    "\n",
    "#print(data)\n",
    "OGR = recSelector(data, 0, OGR=True)[0]\n",
    "CO2 = recSelector(data, 0, OGR=False)[0]\n",
    "\n",
    "print( int(OGR,2), int(CO2,2), int(OGR,2)*int(CO2,2))"
   ]
  }
 ],
 "metadata": {
  "kernelspec": {
   "display_name": "Python 3 (ipykernel)",
   "language": "python",
   "name": "python3"
  },
  "language_info": {
   "codemirror_mode": {
    "name": "ipython",
    "version": 3
   },
   "file_extension": ".py",
   "mimetype": "text/x-python",
   "name": "python",
   "nbconvert_exporter": "python",
   "pygments_lexer": "ipython3",
   "version": "3.10.0"
  }
 },
 "nbformat": 4,
 "nbformat_minor": 5
}
