{
 "cells": [
  {
   "cell_type": "code",
   "execution_count": 127,
   "id": "6efb870d",
   "metadata": {},
   "outputs": [],
   "source": [
    "import statistics as stat\n",
    "\n",
    "TEST = False\n",
    "DEBUG = False\n",
    "X = \"\"\"16,1,2,0,4,2,7,1,2,14\"\"\"\n",
    "\n",
    "if TEST:\n",
    "    data = X.strip().split(\",\")\n",
    "    data = list(map(int, data))\n",
    "else:\n",
    "    with open(\"aoc_7_input.txt\", \"r\") as f:\n",
    "        data = f.read().strip().split(\",\")\n",
    "        data = list(map(int, data))"
   ]
  },
  {
   "cell_type": "code",
   "execution_count": 52,
   "id": "6321889b",
   "metadata": {},
   "outputs": [
    {
     "name": "stdout",
     "output_type": "stream",
     "text": [
      "Median:  2\n",
      "Total moves:  37\n"
     ]
    }
   ],
   "source": [
    "#Part1\n",
    "median = int(stat.median( data ))\n",
    "print( \"Median: \", median)\n",
    "\n",
    "totMove = 0\n",
    "for hpos in data:\n",
    "    move = hpos-median if median < hpos else median - hpos\n",
    "    totMove += abs(move)\n",
    "    #if DEBUG:\n",
    "    #    print( \"|{:>2} -{:>2}| = |{:>2}| => {:>2} => {:>2}\".format(hpos,median,move, abs(move), totMove) )\n",
    "\n",
    "print( \"Total moves: \", totMove )"
   ]
  },
  {
   "cell_type": "code",
   "execution_count": 132,
   "id": "995aa11f",
   "metadata": {},
   "outputs": [
    {
     "name": "stdout",
     "output_type": "stream",
     "text": [
      "Mean:  472.531 473.0\n",
      "\n",
      "Total fuel: 93744451 @ mean: 463\n",
      "Total fuel: 93735506 @ mean: 464\n",
      "Total fuel: 93727561 @ mean: 465\n",
      "Total fuel: 93720619 @ mean: 466\n",
      "Total fuel: 93714678 @ mean: 467\n",
      "Total fuel: 93709738 @ mean: 468\n",
      "Total fuel: 93705799 @ mean: 469\n",
      "Total fuel: 93702860 @ mean: 470\n",
      "Total fuel: 93700922 @ mean: 471\n",
      "Total fuel: 93699985 @ mean: 472\n",
      "Total fuel: 93700048 @ mean: 473\n",
      "Total fuel: 93701114 @ mean: 474\n",
      "Total fuel: 93703182 @ mean: 475\n",
      "Total fuel: 93706250 @ mean: 476\n",
      "Total fuel: 93710319 @ mean: 477\n",
      "Total fuel: 93715388 @ mean: 478\n",
      "Total fuel: 93721457 @ mean: 479\n",
      "Total fuel: 93728529 @ mean: 480\n",
      "Total fuel: 93736602 @ mean: 481\n",
      "Total fuel: 93745675 @ mean: 482\n",
      "\n",
      "93699985\n"
     ]
    }
   ],
   "source": [
    "#Part2\n",
    "import math\n",
    "DEBUG = False\n",
    "\n",
    "mean = stat.mean( data )\n",
    "print( \"Mean: \", mean, round(mean,0))\n",
    "print()\n",
    "\n",
    "mean = int(round(mean,0))\n",
    "\n",
    "totFuel = 0\n",
    "tot = []\n",
    "ra = 10\n",
    "\n",
    "totFuel = 0\n",
    "meanA = mean\n",
    "for mean in range(mean-ra,mean+ra):\n",
    "    totFuel = 0\n",
    "    for hpos in data:\n",
    "        n = hpos-mean if hpos>mean else mean-hpos\n",
    "        fuel = (n*(n+1))//2\n",
    "        totFuel += fuel\n",
    "        if DEBUG:\n",
    "            print( \"{:>2} - {:>2} = {:>5} => {:>2}\".format(hpos, mean, fuel, totFuel) )\n",
    "    print( \"Total fuel: {} @ mean: {}\".format( totFuel, mean ) )\n",
    "    tot.append( totFuel )\n",
    "print()\n",
    "print( min(tot) )"
   ]
  }
 ],
 "metadata": {
  "kernelspec": {
   "display_name": "Python 3 (ipykernel)",
   "language": "python",
   "name": "python3"
  },
  "language_info": {
   "codemirror_mode": {
    "name": "ipython",
    "version": 3
   },
   "file_extension": ".py",
   "mimetype": "text/x-python",
   "name": "python",
   "nbconvert_exporter": "python",
   "pygments_lexer": "ipython3",
   "version": "3.10.0"
  }
 },
 "nbformat": 4,
 "nbformat_minor": 5
}
