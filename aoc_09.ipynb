{
 "cells": [
  {
   "cell_type": "code",
   "execution_count": 109,
   "id": "6efb870d",
   "metadata": {},
   "outputs": [
    {
     "name": "stdout",
     "output_type": "stream",
     "text": [
      "100 100\n"
     ]
    }
   ],
   "source": [
    "import sys\n",
    "TEST = False\n",
    "DEBUG = False\n",
    "X = \"\"\"2199943210\n",
    "3987894921\n",
    "9856789892\n",
    "8767896789\n",
    "9899965678\"\"\"\n",
    "\n",
    "if not TEST:\n",
    "    with open(\"aoc_9_input.txt\", \"r\") as f:\n",
    "        X = f.read().strip()\n",
    "\n",
    "hmap = []\n",
    "rows = X.split(\"\\n\")\n",
    "height = len(rows)\n",
    "for row in rows:\n",
    "    r = []\n",
    "    for cell in row:\n",
    "        r.append( int(cell) )\n",
    "    hmap.append(r)\n",
    "\n",
    "hLimit = len(hmap)\n",
    "wLimit = len(hmap[0])\n",
    "\n",
    "print( hLimit,wLimit)\n",
    "\n"
   ]
  },
  {
   "cell_type": "code",
   "execution_count": 110,
   "id": "6321889b",
   "metadata": {},
   "outputs": [
    {
     "name": "stdout",
     "output_type": "stream",
     "text": [
      "591\n"
     ]
    }
   ],
   "source": [
    "#Part1\n",
    "def checkNeighbours(y, x, value):\n",
    "    if y-1 >= 0 and hmap[y-1][x] < value:\n",
    "        return False\n",
    "    elif y+1 < hLimit and hmap[y+1][x] <= value:\n",
    "        return False\n",
    "    elif x-1 >= 0 and hmap[y][x-1] <= value:\n",
    "        return False\n",
    "    elif x+1 < wLimit and hmap[y][x+1] <= value:\n",
    "        return False\n",
    "    return True\n",
    "\n",
    "lPoint = []\n",
    "for y,row in enumerate(hmap):\n",
    "    for x,value in enumerate(row):\n",
    "        if checkNeighbours( y,x, value ):\n",
    "            lPoint.append([y,x])\n",
    "\n",
    "risk = 0\n",
    "for point in lPoint:\n",
    "    v = 1 + hmap[point[0]][point[1]]\n",
    "    risk += v\n",
    "\n",
    "print( risk)\n"
   ]
  },
  {
   "cell_type": "code",
   "execution_count": 114,
   "id": "995aa11f",
   "metadata": {},
   "outputs": [
    {
     "name": "stdout",
     "output_type": "stream",
     "text": [
      "[4, 2, 16, 27, 25, 24, 55, 47, 28, 10, 28, 20, 37, 49, 8, 10, 23, 25, 18, 16, 9, 22, 32, 9, 41, 101, 23, 48, 70, 89, 32, 30, 33, 41, 46, 5, 2, 4, 68, 10, 9, 6, 3, 12, 2, 21, 52, 42, 56, 5, 12, 5, 3, 25, 68, 52, 37, 41, 74, 20, 13, 31, 69, 54, 76, 2, 25, 28, 97, 68, 27, 4, 56, 2, 33, 2, 2, 39, 42, 50, 30, 20, 75, 30, 8, 50, 21, 8, 27, 34, 14, 6, 72, 2, 6, 2, 2, 50, 18, 41, 4, 16, 5, 52, 76, 33, 104, 32, 36, 96, 2, 31, 67, 7, 30, 55, 73, 32, 19, 3, 4, 3, 47, 33, 23, 6, 31, 27, 28, 66, 7, 71, 26, 65, 39, 5, 20, 82, 13, 82, 34, 23, 65, 2, 5, 40, 6, 41, 11, 7, 26, 30, 19, 2, 7, 24, 68, 65, 101, 17, 11, 75, 11, 47, 68, 44, 7, 5, 34, 85, 12, 34, 40, 58, 21, 66, 76, 55, 20, 54, 6, 13, 23, 15, 37, 2, 8, 10, 106, 61, 40, 24, 3, 21, 3, 20, 7, 87, 95, 2, 31, 69, 9, 28, 34, 78, 55, 28, 8, 68, 70, 10, 11, 8, 56, 30, 4, 53, 26, 32, 5, 35, 13, 15, 23, 8, 3, 2, 12, 40]\n",
      "[101, 104, 106]\n",
      "1113424\n"
     ]
    }
   ],
   "source": [
    "#Part2\n",
    "\n",
    "def printMap(m):\n",
    "    for row in m:\n",
    "        for cell in row:\n",
    "            if cell is True:\n",
    "                sys.stdout.write(\"1\")\n",
    "            elif cell is False:\n",
    "                sys.stdout.write(\"X\")\n",
    "            else:\n",
    "                sys.stdout.write(\".\")\n",
    "        print()\n",
    "        \n",
    "def explore(y,x,m):\n",
    "    if y < 0 or y >= hLimit or x < 0 or x >= wLimit:\n",
    "        return\n",
    "    \n",
    "    if m[y][x] is not None:\n",
    "        return\n",
    "    \n",
    "    if hmap[y][x] < 9:\n",
    "        m[y][x] = True\n",
    "        explore(y-1,x,m)\n",
    "        explore(y+1,x,m)\n",
    "        explore(y,x-1,m)\n",
    "        explore(y,x+1,m)\n",
    "    else:\n",
    "        m[y][x] = False\n",
    "    \n",
    "vals = []\n",
    "c = 0\n",
    "for point in lPoint:\n",
    "    c+=1\n",
    "    tempMap = []\n",
    "    for i in range(0,hLimit):\n",
    "        tempMap.append([None,]*wLimit)\n",
    "    \n",
    "    explore(point[0], point[1], tempMap)\n",
    "    \n",
    "    tot = 0\n",
    "    for y,row in enumerate(tempMap):\n",
    "        for x,val in enumerate(row):\n",
    "            if tempMap[y][x] == True:\n",
    "                tot += 1\n",
    "    vals.append(tot)\n",
    "\n",
    "import numpy\n",
    "print( vals )\n",
    "print( sorted(vals)[-3:] )\n",
    "print( numpy.prod( sorted(vals)[-3:] ) )\n",
    "\n",
    "                \n"
   ]
  },
  {
   "cell_type": "code",
   "execution_count": null,
   "id": "d0d2a7f1",
   "metadata": {},
   "outputs": [],
   "source": []
  }
 ],
 "metadata": {
  "kernelspec": {
   "display_name": "Python 3 (ipykernel)",
   "language": "python",
   "name": "python3"
  },
  "language_info": {
   "codemirror_mode": {
    "name": "ipython",
    "version": 3
   },
   "file_extension": ".py",
   "mimetype": "text/x-python",
   "name": "python",
   "nbconvert_exporter": "python",
   "pygments_lexer": "ipython3",
   "version": "3.10.1"
  }
 },
 "nbformat": 4,
 "nbformat_minor": 5
}
