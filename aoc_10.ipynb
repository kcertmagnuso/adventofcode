{
 "cells": [
  {
   "cell_type": "code",
   "execution_count": 47,
   "id": "6efb870d",
   "metadata": {},
   "outputs": [],
   "source": [
    "TEST = False\n",
    "DEBUG = False\n",
    "X = \"\"\"[({(<(())[]>[[{[]{<()<>>\n",
    "[(()[<>])]({[<{<<[]>>(\n",
    "{([(<{}[<>[]}>{[]{[(<()>\n",
    "(((({<>}<{<{<>}{[]{[]{}\n",
    "[[<[([]))<([[{}[[()]]]\n",
    "[{[{({}]{}}([{[{{{}}([]\n",
    "{<[[]]>}<{[{[{[]{()[[[]\n",
    "[<(<(<(<{}))><([]([]()\n",
    "<{([([[(<>()){}]>(<<{{\n",
    "<{([{{}}[<[[[<>{}]]]>[]]\"\"\"\n",
    "\n",
    "if not TEST:\n",
    "    with open(\"aoc_10_input.txt\", \"r\") as f:\n",
    "        X = f.read().strip()\n",
    "\n",
    "lines = X.split(\"\\n\")\n"
   ]
  },
  {
   "cell_type": "code",
   "execution_count": 57,
   "id": "6321889b",
   "metadata": {},
   "outputs": [
    {
     "name": "stdout",
     "output_type": "stream",
     "text": [
      ") [3, 7]\n",
      "] [57, 15]\n",
      "} [1197, 13]\n",
      "> [25137, 12]\n",
      "\n",
      "318081\n"
     ]
    }
   ],
   "source": [
    "#Part1\n",
    "lines\n",
    "a = \"({[<\"\n",
    "b = \")}]>\"\n",
    "\n",
    "score = {\n",
    "        \")\": [3,0],\n",
    "        \"]\": [57,0],\n",
    "        \"}\": [1197,0],\n",
    "        \">\": [25137,0]\n",
    "      }\n",
    "\n",
    "for line in lines:\n",
    "    aa = []\n",
    "    for index,el in enumerate(line):\n",
    "        if el in a:\n",
    "            aa.append(el)\n",
    "        elif el in b:\n",
    "            if aa[-1] == a[b.index(el)]:\n",
    "                del aa[-1]\n",
    "            else:\n",
    "                score[el][1] += 1\n",
    "                break\n",
    "\n",
    "tot = 0\n",
    "for i in score:\n",
    "    print( i, score[i] )\n",
    "    tot += (score[i][0]*score[i][1])\n",
    "print()\n",
    "print( tot )"
   ]
  },
  {
   "cell_type": "code",
   "execution_count": 59,
   "id": "995aa11f",
   "metadata": {},
   "outputs": [
    {
     "name": "stdout",
     "output_type": "stream",
     "text": [
      "4361305341.0\n"
     ]
    }
   ],
   "source": [
    "#Part2\n",
    "a = \"({[<\"\n",
    "b = \")}]>\"\n",
    "\n",
    "score = { \")\": [1,0],\n",
    "        \"]\": [2,0],\n",
    "        \"}\": [3,0],\n",
    "        \">\": [4,0] }\n",
    "\n",
    "solves = []\n",
    "\n",
    "for line in lines:\n",
    "    aa = []\n",
    "    ERROR = False\n",
    "    \n",
    "    for index,el in enumerate(line):\n",
    "        if el in a:\n",
    "            aa.append(el)\n",
    "        elif el in b:\n",
    "            if aa[-1] == a[b.index(el)]:\n",
    "                del aa[-1]\n",
    "            else:\n",
    "                ERROR = True  #Error in text, otherwise it ends via for loop\n",
    "    \n",
    "    if ERROR == False:\n",
    "        tot = 0\n",
    "        for i in range( len(aa)-1, -1, -1 ):\n",
    "            tot = (tot*5) + score[b[ a.index(aa[i])]][0]\n",
    "        solves.append(tot)\n",
    "\n",
    "import numpy\n",
    "print( numpy.median( solves ) )"
   ]
  }
 ],
 "metadata": {
  "kernelspec": {
   "display_name": "Python 3 (ipykernel)",
   "language": "python",
   "name": "python3"
  },
  "language_info": {
   "codemirror_mode": {
    "name": "ipython",
    "version": 3
   },
   "file_extension": ".py",
   "mimetype": "text/x-python",
   "name": "python",
   "nbconvert_exporter": "python",
   "pygments_lexer": "ipython3",
   "version": "3.10.1"
  }
 },
 "nbformat": 4,
 "nbformat_minor": 5
}
