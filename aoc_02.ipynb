{
 "cells": [
  {
   "cell_type": "code",
   "execution_count": 33,
   "id": "25ce6fb9",
   "metadata": {},
   "outputs": [],
   "source": [
    "TEST = False\n",
    "DEBUG = False\n",
    "X = \"\"\"forward 5\n",
    "down 5\n",
    "forward 8\n",
    "up 3\n",
    "down 8\n",
    "forward 2\n",
    "\"\"\"\n",
    "\n",
    "if TEST:\n",
    "    data = X.strip().split()\n",
    "    #data = list(map(int, data))\n",
    "else:\n",
    "    with open(\"aoc_2_input.txt\", \"r\") as f:\n",
    "        data = f.read().strip().split()\n",
    "        #data = list(map(int, data))\n"
   ]
  },
  {
   "cell_type": "code",
   "execution_count": 36,
   "id": "67b980ca",
   "metadata": {},
   "outputs": [
    {
     "name": "stdout",
     "output_type": "stream",
     "text": [
      "ans: 779x1911=1488669\n"
     ]
    }
   ],
   "source": [
    "#Part1\n",
    "def move(direction,n):\n",
    "    if direction == \"forward\":\n",
    "        return [0, n]\n",
    "    elif direction == \"up\":\n",
    "        return [n*-1, 0]\n",
    "    elif direction == \"down\":\n",
    "        return [n, 0]\n",
    "\n",
    "loc = [0,0]\n",
    "if DEBUG:\n",
    "    print(loc)\n",
    "for i in range(1, len(data), 2):\n",
    "    vec = move(data[i-1], int(data[i]))\n",
    "    loc = [ loc[0]+vec[0], loc[1]+vec[1] ]\n",
    "    if DEBUG:\n",
    "        print(loc)\n",
    "print(\"ans: {}x{}={}\".format(loc[0], loc[1],loc[0]*loc[1]))\n",
    "    "
   ]
  },
  {
   "cell_type": "code",
   "execution_count": 35,
   "id": "b248383b",
   "metadata": {},
   "outputs": [
    {
     "name": "stdout",
     "output_type": "stream",
     "text": [
      "ans: 615654x1911=1176514794\n"
     ]
    }
   ],
   "source": [
    "#Part2\n",
    "loc = [0,0,0]\n",
    "\n",
    "def move2(direction, n, loc):\n",
    "    if direction == \"forward\":\n",
    "        loc[0] += n*loc[2]\n",
    "        loc[1] += n\n",
    "    elif direction == \"up\":\n",
    "        loc[2] -= n\n",
    "    elif direction == \"down\":\n",
    "        loc[2] += n\n",
    "    return loc\n",
    "if DEBUG:\n",
    "    print(loc)\n",
    "for i in range(1, len(data), 2):\n",
    "    loc = move2(data[i-1], int(data[i]), loc)\n",
    "    if DEBUG:\n",
    "        print(data[i-1], data[i], loc)\n",
    "print(\"ans: {}x{}={}\".format(loc[0], loc[1], loc[0]*loc[1]) )\n",
    "    "
   ]
  }
 ],
 "metadata": {
  "kernelspec": {
   "display_name": "Python 3 (ipykernel)",
   "language": "python",
   "name": "python3"
  },
  "language_info": {
   "codemirror_mode": {
    "name": "ipython",
    "version": 3
   },
   "file_extension": ".py",
   "mimetype": "text/x-python",
   "name": "python",
   "nbconvert_exporter": "python",
   "pygments_lexer": "ipython3",
   "version": "3.10.0"
  }
 },
 "nbformat": 4,
 "nbformat_minor": 5
}
