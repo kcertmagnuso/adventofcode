{
 "cells": [
  {
   "cell_type": "code",
   "execution_count": 66,
   "id": "6efb870d",
   "metadata": {},
   "outputs": [],
   "source": [
    "TEST = False\n",
    "DEBUG = False\n",
    "X = \"\"\"3,4,3,1,2\"\"\"\n",
    "\n",
    "if TEST:\n",
    "    data = X.strip().split(\",\")\n",
    "    data = list(map(int, data))\n",
    "else:\n",
    "    with open(\"aoc_6_input.txt\", \"r\") as f:\n",
    "        data = f.read().strip().split(\",\")\n",
    "        data = list(map(int, data))\n",
    "\n",
    "        \n",
    "class Lanternfish(object):\n",
    "    Time = None\n",
    "    def __init__(self, Age=8):\n",
    "        self.Time = Age\n",
    "        \n",
    "    def LifeCycle(self):\n",
    "        self.Time -= 1\n",
    "        if self.Time == -1:\n",
    "            self.Time = 6\n",
    "            return True\n",
    "        return False\n",
    "\n",
    "    def __str__(self):\n",
    "        return \"Fish: {} {} left until new spawn\".format(self.Time, \"day\" if self.Time==1 else \"days\")\n",
    "\n",
    "def LoadFishes():\n",
    "    Lanternfishes = []\n",
    "    for fishAge in data:\n",
    "        Lanternfishes.append( Lanternfish( fishAge ) )\n",
    "    return Lanternfishes\n",
    "\n",
    "def currentState( fishes, days ):\n",
    "    state = []\n",
    "    for fish in fishes:\n",
    "        state.append(fish.Time)\n",
    "    \n",
    "    if days > 1:\n",
    "        print(\"After {:>3} days: {}\".format( days, str(state)[1:-1] ))\n",
    "    else:\n",
    "        if days == 1:\n",
    "            print(\"After {:>3} day: {}\".format( days, str(state)[1:-1] ))\n",
    "        else:\n",
    "            print(\"Initial state: {}\".format( str(state)[1:-1] ))\n",
    "        "
   ]
  },
  {
   "cell_type": "code",
   "execution_count": 60,
   "id": "14cf48d3",
   "metadata": {},
   "outputs": [
    {
     "name": "stdout",
     "output_type": "stream",
     "text": [
      "Initial state: 3, 4, 3, 1, 2\n"
     ]
    },
    {
     "ename": "KeyboardInterrupt",
     "evalue": "",
     "output_type": "error",
     "traceback": [
      "\u001b[1;31m---------------------------------------------------------------------------\u001b[0m",
      "\u001b[1;31mKeyboardInterrupt\u001b[0m                         Traceback (most recent call last)",
      "\u001b[1;32mC:\\Users\\MAGNUS~1\\AppData\\Local\\Temp/ipykernel_17076/3105415934.py\u001b[0m in \u001b[0;36m<module>\u001b[1;34m\u001b[0m\n\u001b[0;32m      7\u001b[0m     \u001b[0mnewFish\u001b[0m \u001b[1;33m=\u001b[0m \u001b[1;33m[\u001b[0m\u001b[1;33m]\u001b[0m\u001b[1;33m\u001b[0m\u001b[1;33m\u001b[0m\u001b[0m\n\u001b[0;32m      8\u001b[0m     \u001b[1;32mfor\u001b[0m \u001b[0mfish\u001b[0m \u001b[1;32min\u001b[0m \u001b[0mLanternfishes\u001b[0m\u001b[1;33m:\u001b[0m\u001b[1;33m\u001b[0m\u001b[1;33m\u001b[0m\u001b[0m\n\u001b[1;32m----> 9\u001b[1;33m         \u001b[1;32mif\u001b[0m \u001b[0mfish\u001b[0m\u001b[1;33m.\u001b[0m\u001b[0mLifeCycle\u001b[0m\u001b[1;33m(\u001b[0m\u001b[1;33m)\u001b[0m \u001b[1;32mis\u001b[0m \u001b[1;32mTrue\u001b[0m\u001b[1;33m:\u001b[0m\u001b[1;33m\u001b[0m\u001b[1;33m\u001b[0m\u001b[0m\n\u001b[0m\u001b[0;32m     10\u001b[0m             \u001b[0mnewFish\u001b[0m\u001b[1;33m.\u001b[0m\u001b[0mappend\u001b[0m\u001b[1;33m(\u001b[0m \u001b[0mLanternfish\u001b[0m\u001b[1;33m(\u001b[0m\u001b[1;33m)\u001b[0m \u001b[1;33m)\u001b[0m\u001b[1;33m\u001b[0m\u001b[1;33m\u001b[0m\u001b[0m\n\u001b[0;32m     11\u001b[0m     \u001b[0mLanternfishes\u001b[0m\u001b[1;33m.\u001b[0m\u001b[0mextend\u001b[0m\u001b[1;33m(\u001b[0m \u001b[0mnewFish\u001b[0m \u001b[1;33m)\u001b[0m\u001b[1;33m\u001b[0m\u001b[1;33m\u001b[0m\u001b[0m\n",
      "\u001b[1;31mKeyboardInterrupt\u001b[0m: "
     ]
    }
   ],
   "source": [
    "## Part1\n",
    "Lanternfishes = LoadFishes()\n",
    "\n",
    "currentState( Lanternfishes, 0 )\n",
    "\n",
    "for day in range(1,257):\n",
    "    newFish = []\n",
    "    for fish in Lanternfishes:\n",
    "        if fish.LifeCycle() is True:\n",
    "            newFish.append( Lanternfish() )\n",
    "    Lanternfishes.extend( newFish )\n",
    "    \n",
    "    #currentState( Lanternfishes, day )\n",
    "print( len(Lanternfishes) )"
   ]
  },
  {
   "cell_type": "code",
   "execution_count": 68,
   "id": "f53cf0bb",
   "metadata": {},
   "outputs": [
    {
     "name": "stdout",
     "output_type": "stream",
     "text": [
      "0 [0, 89, 50, 46, 48, 67, 0, 0, 0]\n"
     ]
    },
    {
     "data": {
      "text/plain": [
       "1592778185024"
      ]
     },
     "execution_count": 68,
     "metadata": {},
     "output_type": "execute_result"
    }
   ],
   "source": [
    "## Part2\n",
    "Lanternfishes = LoadFishes()\n",
    "\n",
    "AD = [0,]*9\n",
    "for fish in Lanternfishes:\n",
    "    AD[ fish.Time ] += 1\n",
    "\n",
    "print(0, AD)\n",
    "\n",
    "for day in range(1,257):\n",
    "    newFish = AD[0]\n",
    "    AD[0:8] = AD[1:9]\n",
    "    AD[6] += newFish\n",
    "    AD[8] = newFish\n",
    "    \n",
    "    #print(day, AD)\n",
    "sum(AD)"
   ]
  }
 ],
 "metadata": {
  "kernelspec": {
   "display_name": "Python 3 (ipykernel)",
   "language": "python",
   "name": "python3"
  },
  "language_info": {
   "codemirror_mode": {
    "name": "ipython",
    "version": 3
   },
   "file_extension": ".py",
   "mimetype": "text/x-python",
   "name": "python",
   "nbconvert_exporter": "python",
   "pygments_lexer": "ipython3",
   "version": "3.10.0"
  }
 },
 "nbformat": 4,
 "nbformat_minor": 5
}
