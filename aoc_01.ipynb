{
 "cells": [
  {
   "cell_type": "code",
   "execution_count": 14,
   "id": "f4a3556c",
   "metadata": {},
   "outputs": [],
   "source": [
    "TEST = True\n",
    "DEBUG = False\n",
    "X = \"\"\"199\n",
    "200\n",
    "208\n",
    "210\n",
    "200\n",
    "207\n",
    "240\n",
    "269\n",
    "260\n",
    "263\"\"\"\n",
    "\n",
    "\n",
    "if TEST:\n",
    "    data = X.strip().split()\n",
    "    data = list(map(int, data))\n",
    "else:\n",
    "    with open(\"aoc_1_input.txt\", \"r\") as f:\n",
    "        data = f.read().strip().split()\n",
    "        data = list(map(int, data))\n"
   ]
  },
  {
   "cell_type": "code",
   "execution_count": 13,
   "id": "941e30bf",
   "metadata": {},
   "outputs": [
    {
     "name": "stdout",
     "output_type": "stream",
     "text": [
      "Answer 7\n"
     ]
    }
   ],
   "source": [
    "COUNT = 0\n",
    "PRE = data[0]\n",
    "\n",
    "if DEBUG:\n",
    "    print( \"{} ({})\".format(PRE, \"N/A - no previous measurement\"))\n",
    "    \n",
    "for CUR in data[1:]:\n",
    "    if CUR > PRE:\n",
    "        if DEBUG:\n",
    "            print( \"{} (increased)\".format(CUR))\n",
    "        COUNT += 1\n",
    "    elif CUR < PRE:\n",
    "        if DEBUG:\n",
    "            print( \"{} (decreased)\".format(CUR))\n",
    "    elif CUR == PRE:\n",
    "        if DEBUG:\n",
    "            print( \"{} (No change)\".format(CUR))\n",
    "    PRE = CUR\n",
    "    \n",
    "print( \"Answer {}\".format(COUNT) )"
   ]
  },
  {
   "cell_type": "code",
   "execution_count": 12,
   "id": "2b2d5f12",
   "metadata": {},
   "outputs": [
    {
     "name": "stdout",
     "output_type": "stream",
     "text": [
      "5\n"
     ]
    }
   ],
   "source": [
    "COUNT = 0\n",
    "PRE = sum( data[0:3] )\n",
    "\n",
    "if DEBUG:\n",
    "    print( \"{} ({})\".format(PRE, \"N/A - no previous measurement\"))\n",
    "    \n",
    "#Off-by-one comp to get last set\n",
    "for i in range(4, len(data)+1):\n",
    "    CUR =  sum( data[i-3:i] )\n",
    "    if CUR > PRE:\n",
    "        if DEBUG:\n",
    "            print( \"{} (increased)\".format(CUR))\n",
    "        COUNT += 1\n",
    "    elif CUR < PRE:\n",
    "        if DEBUG:\n",
    "            print( \"{} (decreased)\".format(CUR))\n",
    "    elif CUR == PRE:\n",
    "        if DEBUG:\n",
    "            print( \"{} (No change)\".format(CUR))\n",
    "    PRE = CUR\n",
    "print( COUNT )\n"
   ]
  }
 ],
 "metadata": {
  "kernelspec": {
   "display_name": "Python 3 (ipykernel)",
   "language": "python",
   "name": "python3"
  },
  "language_info": {
   "codemirror_mode": {
    "name": "ipython",
    "version": 3
   },
   "file_extension": ".py",
   "mimetype": "text/x-python",
   "name": "python",
   "nbconvert_exporter": "python",
   "pygments_lexer": "ipython3",
   "version": "3.10.0"
  }
 },
 "nbformat": 4,
 "nbformat_minor": 5
}
