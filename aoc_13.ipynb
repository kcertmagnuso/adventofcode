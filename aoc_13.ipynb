{
 "cells": [
  {
   "cell_type": "code",
   "execution_count": 135,
   "id": "6efb870d",
   "metadata": {},
   "outputs": [],
   "source": [
    "TEST = True\n",
    "DEBUG = False\n",
    "\n",
    "X = \"\"\"\n",
    "\"\"\"\n",
    "\n",
    "if not TEST:\n",
    "    with open(\"aoc_11_input.txt\", \"r\") as f:\n",
    "        X = f.read().strip()\n",
    "X = X.split(\"\\n\")\n",
    "\n",
    "import numpy as np\n",
    "\n",
    "data = []\n",
    "for line in X:\n",
    "    data.append( line )\n"
   ]
  },
  {
   "cell_type": "code",
   "execution_count": 1,
   "id": "6321889b",
   "metadata": {},
   "outputs": [],
   "source": [
    "#Part1\n"
   ]
  },
  {
   "cell_type": "code",
   "execution_count": 2,
   "id": "995aa11f",
   "metadata": {},
   "outputs": [],
   "source": [
    "#Part2\n"
   ]
  }
 ],
 "metadata": {
  "kernelspec": {
   "display_name": "Python 3 (ipykernel)",
   "language": "python",
   "name": "python3"
  },
  "language_info": {
   "codemirror_mode": {
    "name": "ipython",
    "version": 3
   },
   "file_extension": ".py",
   "mimetype": "text/x-python",
   "name": "python",
   "nbconvert_exporter": "python",
   "pygments_lexer": "ipython3",
   "version": "3.10.1"
  }
 },
 "nbformat": 4,
 "nbformat_minor": 5
}
